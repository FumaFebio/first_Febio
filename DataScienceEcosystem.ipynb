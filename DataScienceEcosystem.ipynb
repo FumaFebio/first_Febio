{
  "metadata": {
    "kernelspec": {
      "name": "python",
      "display_name": "Python (Pyodide)",
      "language": "python"
    },
    "language_info": {
      "codemirror_mode": {
        "name": "python",
        "version": 3
      },
      "file_extension": ".py",
      "mimetype": "text/x-python",
      "name": "python",
      "nbconvert_exporter": "python",
      "pygments_lexer": "ipython3",
      "version": "3.8"
    }
  },
  "nbformat_minor": 5,
  "nbformat": 4,
  "cells": [
    {
      "id": "8ad8ce8d-f07e-4246-ad77-900bb99e422c",
      "cell_type": "markdown",
      "source": "# Data Science Tool and Ecosystem",
      "metadata": {}
    },
    {
      "id": "076bbd32-86e1-4c93-9183-f92e459f97a9",
      "cell_type": "markdown",
      "source": "### In this notebook, Data Science Tools and Ecosystem are summarized.",
      "metadata": {}
    },
    {
      "id": "5ea432a5-76f6-4da0-bb16-ca7e5bad478d",
      "cell_type": "markdown",
      "source": "## Objectives:\n- Data Science Tools\n- Libraries used by Data Scientists\n- Table of Data Science Tools\n",
      "metadata": {}
    },
    {
      "id": "11c03c13-5349-4716-816e-70fa7c9b4e10",
      "cell_type": "markdown",
      "source": "### Some of the popular languages that Data Scientists use are:\n1. Python\n2. R\n3. C\n4. C++\n5. Stata\n6. SQL",
      "metadata": {}
    },
    {
      "id": "639b68b4-d979-4530-998d-c9cf39640303",
      "cell_type": "markdown",
      "source": "### Some of the commonly used libraries used by Data Scientists include:\n#### 1. pandas\n#### 2. ggplot2\n#### 3. Matplotlib\n#### 4. Tenserflow",
      "metadata": {}
    },
    {
      "id": "a342d5e7-1fc5-4569-babb-b810c8aacacf",
      "cell_type": "markdown",
      "source": "## Table of Data Science Tools\n\n| Data Science Tools | \n| -------------| \n| Visual Studio Code | \n| Jupyter Notebook | \n| Eclipse | ",
      "metadata": {}
    },
    {
      "id": "1fbebbb6-bc17-4972-85fd-7d39744a1cd6",
      "cell_type": "markdown",
      "source": "### Below are a few examples of evaluating arithmetic expressions in Python",
      "metadata": {}
    },
    {
      "id": "78ec3963-c76d-441d-982e-f47791d28bc1",
      "cell_type": "code",
      "source": "# This a simple arithmetic expression to mutiply then add integers\n3*4+5",
      "metadata": {
        "trusted": true
      },
      "outputs": [
        {
          "execution_count": 5,
          "output_type": "execute_result",
          "data": {
            "text/plain": "17"
          },
          "metadata": {}
        }
      ],
      "execution_count": 5
    },
    {
      "id": "1fe5ef5d-a23b-4ea9-8678-72ea4a496561",
      "cell_type": "code",
      "source": "# This will convert 200 minutes to hours by diving by 60\n200/60",
      "metadata": {
        "trusted": true
      },
      "outputs": [
        {
          "execution_count": 6,
          "output_type": "execute_result",
          "data": {
            "text/plain": "3.3333333333333335"
          },
          "metadata": {}
        }
      ],
      "execution_count": 6
    },
    {
      "id": "d4046223-7376-490e-8fb6-1ccb38523a2c",
      "cell_type": "markdown",
      "source": "## Author\n   Fabio",
      "metadata": {}
    }
  ]
}